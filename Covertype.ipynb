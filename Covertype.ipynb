{
  "nbformat": 4,
  "nbformat_minor": 0,
  "metadata": {
    "colab": {
      "provenance": [],
      "gpuType": "T4"
    },
    "kernelspec": {
      "name": "python3",
      "display_name": "Python 3"
    },
    "language_info": {
      "name": "python"
    },
    "accelerator": "GPU"
  },
  "cells": [
    {
      "cell_type": "code",
      "execution_count": null,
      "metadata": {
        "id": "WX0hMuS1AziY"
      },
      "outputs": [],
      "source": [
        "import pandas as pd\n",
        "import torch\n",
        "import torch.nn as nn\n",
        "import torch.optim as optim\n",
        "import numpy as np\n",
        "import seaborn as sns\n",
        "import matplotlib.pyplot as plt\n",
        "from sklearn.datasets import fetch_covtype\n",
        "from sklearn.utils import shuffle\n",
        "from sklearn.preprocessing import MinMaxScaler\n",
        "from sklearn.model_selection import train_test_split\n",
        "from sklearn.metrics import confusion_matrix, classification_report\n",
        "from torch.utils.data import TensorDataset\n",
        "from torch.utils.data import DataLoader"
      ]
    },
    {
      "cell_type": "code",
      "source": [
        "data = fetch_covtype();\n",
        "print(data.data.shape)\n",
        "print(data.target.shape)\n",
        "print(data.data)\n",
        "print(data.target)\n",
        "type(data.data)\n",
        "type(data.target)"
      ],
      "metadata": {
        "id": "UGDNQ2JWA4hv",
        "colab": {
          "base_uri": "https://localhost:8080/"
        },
        "outputId": "e7edecc7-7397-4b35-bc96-f641306a54c4"
      },
      "execution_count": null,
      "outputs": [
        {
          "output_type": "stream",
          "name": "stdout",
          "text": [
            "(581012, 54)\n",
            "(581012,)\n",
            "[[2.596e+03 5.100e+01 3.000e+00 ... 0.000e+00 0.000e+00 0.000e+00]\n",
            " [2.590e+03 5.600e+01 2.000e+00 ... 0.000e+00 0.000e+00 0.000e+00]\n",
            " [2.804e+03 1.390e+02 9.000e+00 ... 0.000e+00 0.000e+00 0.000e+00]\n",
            " ...\n",
            " [2.386e+03 1.590e+02 1.700e+01 ... 0.000e+00 0.000e+00 0.000e+00]\n",
            " [2.384e+03 1.700e+02 1.500e+01 ... 0.000e+00 0.000e+00 0.000e+00]\n",
            " [2.383e+03 1.650e+02 1.300e+01 ... 0.000e+00 0.000e+00 0.000e+00]]\n",
            "[5 5 2 ... 3 3 3]\n"
          ]
        },
        {
          "output_type": "execute_result",
          "data": {
            "text/plain": [
              "numpy.ndarray"
            ]
          },
          "metadata": {},
          "execution_count": 3
        }
      ]
    },
    {
      "cell_type": "markdown",
      "source": [
        "# Transformacija ulaznih podataka\n"
      ],
      "metadata": {
        "id": "X1wkWftgH6my"
      }
    },
    {
      "cell_type": "markdown",
      "source": [
        "Provjera distribucije klasa u skupu podataka:"
      ],
      "metadata": {
        "id": "OQXrQOsPnzfW"
      }
    },
    {
      "cell_type": "code",
      "source": [
        "df = pd.DataFrame(data.data, columns=data.feature_names)\n",
        "df['target'] = data.target\n",
        "\n",
        "class_distribution = df['target'].value_counts()\n",
        "print(class_distribution)"
      ],
      "metadata": {
        "colab": {
          "base_uri": "https://localhost:8080/"
        },
        "id": "fcrHP44XHguy",
        "outputId": "a6444b8f-10ca-45c2-f2bd-316e2a90e213"
      },
      "execution_count": null,
      "outputs": [
        {
          "output_type": "stream",
          "name": "stdout",
          "text": [
            "2    283301\n",
            "1    211840\n",
            "3     35754\n",
            "7     20510\n",
            "6     17367\n",
            "5      9493\n",
            "4      2747\n",
            "Name: target, dtype: int64\n"
          ]
        }
      ]
    },
    {
      "cell_type": "markdown",
      "source": [
        "Postoji 7 klasa sa velikim varijacijama u broju uzoraka."
      ],
      "metadata": {
        "id": "n2JF1bteJkg_"
      }
    },
    {
      "cell_type": "code",
      "source": [
        "num_samples = np.min(class_distribution.values)"
      ],
      "metadata": {
        "id": "jlmx2gHRIJme"
      },
      "execution_count": null,
      "outputs": []
    },
    {
      "cell_type": "markdown",
      "source": [
        "Za svaku klasu uzimamo `num_samples` broj uzoraka, koji predstavlja najmanji broj uzoraka od svih klasa, kako bi raspodjela bila uniformna."
      ],
      "metadata": {
        "id": "62LA7un6X9vW"
      }
    },
    {
      "cell_type": "code",
      "source": [
        "classes = np.unique(data.target)\n",
        "class_subsets_X = []\n",
        "limited_y = []\n",
        "\n",
        "for target_class in classes:\n",
        "    class_mask = (data.target == target_class)\n",
        "    class_data_X = data.data[class_mask]\n",
        "    class_data_y = data.target[class_mask]\n",
        "\n",
        "    if len(class_data_X) > num_samples:\n",
        "      class_data_X = class_data_X[:num_samples]\n",
        "\n",
        "    class_subsets_X.append(class_data_X)\n",
        "    limited_y = np.hstack((limited_y, (data.target[class_mask])[:len(class_data_X)]))\n",
        "\n",
        "limited_X = np.vstack(class_subsets_X)\n",
        "print(limited_X.shape)\n",
        "print(limited_y.shape)\n",
        "print(limited_X)\n",
        "print(limited_y)"
      ],
      "metadata": {
        "id": "s7JENVdsZH0F",
        "colab": {
          "base_uri": "https://localhost:8080/"
        },
        "outputId": "8cbd95e2-3d22-41ff-ed74-63bb6746f442"
      },
      "execution_count": null,
      "outputs": [
        {
          "output_type": "stream",
          "name": "stdout",
          "text": [
            "(19229, 54)\n",
            "(19229,)\n",
            "[[2.699e+03 3.470e+02 3.000e+00 ... 0.000e+00 0.000e+00 0.000e+00]\n",
            " [2.739e+03 3.230e+02 2.500e+01 ... 0.000e+00 0.000e+00 0.000e+00]\n",
            " [2.696e+03 7.200e+01 2.000e+00 ... 0.000e+00 0.000e+00 0.000e+00]\n",
            " ...\n",
            " [3.256e+03 7.900e+01 1.700e+01 ... 0.000e+00 1.000e+00 0.000e+00]\n",
            " [3.249e+03 7.500e+01 1.200e+01 ... 0.000e+00 1.000e+00 0.000e+00]\n",
            " [3.244e+03 7.200e+01 8.000e+00 ... 1.000e+00 0.000e+00 0.000e+00]]\n",
            "[1. 1. 1. ... 7. 7. 7.]\n"
          ]
        }
      ]
    },
    {
      "cell_type": "markdown",
      "source": [
        "# Podjela na skupove"
      ],
      "metadata": {
        "id": "3g0LTgqLoIsv"
      }
    },
    {
      "cell_type": "markdown",
      "source": [
        "Inicijalizacija ulaza i labela:"
      ],
      "metadata": {
        "id": "N9CWULPnHODN"
      }
    },
    {
      "cell_type": "code",
      "source": [
        "limited_y = limited_y.reshape(-1, 1)\n",
        "reduced_data = np.hstack((limited_X, limited_y))\n",
        "np.random.shuffle(reduced_data)\n",
        "\n",
        "X = reduced_data[:, :-1]\n",
        "y = reduced_data[:, -1]\n",
        "print(X.shape)\n",
        "print(y.shape)\n",
        "print(X)\n",
        "print(y)"
      ],
      "metadata": {
        "id": "ZHkMPQYIA8Nm",
        "colab": {
          "base_uri": "https://localhost:8080/"
        },
        "outputId": "91a7a6fe-86b8-437c-e409-c209dbd68acb"
      },
      "execution_count": null,
      "outputs": [
        {
          "output_type": "stream",
          "name": "stdout",
          "text": [
            "(19229, 54)\n",
            "(19229,)\n",
            "[[2761.  314.   20. ...    0.    0.    0.]\n",
            " [2833.   78.   15. ...    0.    0.    0.]\n",
            " [2830.  140.   16. ...    0.    0.    0.]\n",
            " ...\n",
            " [2703.   47.    8. ...    0.    0.    0.]\n",
            " [2076.   27.   21. ...    0.    0.    0.]\n",
            " [2912.  252.   10. ...    0.    0.    0.]]\n",
            "[6. 5. 5. ... 1. 3. 5.]\n"
          ]
        }
      ]
    },
    {
      "cell_type": "markdown",
      "source": [
        "One-hot encoding y:"
      ],
      "metadata": {
        "id": "5kuqqtb8Fajx"
      }
    },
    {
      "cell_type": "code",
      "source": [
        "y_one_hot = []\n",
        "\n",
        "for c in y:\n",
        "  row = [0 for _ in range(7)]\n",
        "  row[int(c-1)] = 1\n",
        "  y_one_hot.append(row)\n"
      ],
      "metadata": {
        "colab": {
          "base_uri": "https://localhost:8080/"
        },
        "id": "wdUF4nHiFuk3",
        "outputId": "7fb88267-490b-4698-fc8a-2780ec8bf796"
      },
      "execution_count": null,
      "outputs": []
    },
    {
      "cell_type": "markdown",
      "source": [
        "Normalizacija X:"
      ],
      "metadata": {
        "id": "5SM5S1d6lq8i"
      }
    },
    {
      "cell_type": "code",
      "source": [
        "scaler = MinMaxScaler()\n",
        "scaler.fit(X)\n",
        "X_normalized = scaler.transform(X)"
      ],
      "metadata": {
        "id": "p9Yz_myBltel"
      },
      "execution_count": null,
      "outputs": []
    },
    {
      "cell_type": "markdown",
      "source": [
        "Inicijalizacija trening, testnog i validacionog skupa:"
      ],
      "metadata": {
        "id": "A_Y5ZbZdHVjM"
      }
    },
    {
      "cell_type": "code",
      "source": [
        "X_train, X_temp, y_train, y_temp = train_test_split(X_normalized, y_one_hot, test_size=0.3, random_state=42)\n",
        "X_val, X_test, y_val, y_test = train_test_split(X_temp, y_temp, test_size=0.5, random_state=42)"
      ],
      "metadata": {
        "id": "NBeyi2YaGhRP"
      },
      "execution_count": null,
      "outputs": []
    },
    {
      "cell_type": "code",
      "source": [
        "X_train_t = torch.tensor(X_train).float()\n",
        "X_test_t = torch.tensor(X_test).float()\n",
        "X_val_t = torch.tensor(X_val).float()"
      ],
      "metadata": {
        "id": "kUBPyRfpgnya"
      },
      "execution_count": null,
      "outputs": []
    },
    {
      "cell_type": "code",
      "source": [
        "y_train_t = torch.tensor(y_train).float()\n",
        "y_test_t = torch.tensor(y_test).float()\n",
        "y_val_t = torch.tensor(y_val).float()"
      ],
      "metadata": {
        "id": "NGcDBgVWguP4"
      },
      "execution_count": null,
      "outputs": []
    },
    {
      "cell_type": "code",
      "source": [
        "train_dataset = TensorDataset(X_train_t, y_train_t)\n",
        "test_dataset = TensorDataset(X_test_t, y_test_t)\n",
        "val_dataset = TensorDataset(X_val_t, y_val_t)"
      ],
      "metadata": {
        "id": "T-cz1gVNg-rP"
      },
      "execution_count": null,
      "outputs": []
    },
    {
      "cell_type": "code",
      "source": [
        "train_loader = DataLoader(train_dataset, 32)\n",
        "test_loader = DataLoader(test_dataset, 32)\n",
        "val_loader = DataLoader(val_dataset, 32)"
      ],
      "metadata": {
        "id": "qQPgMca1hWRC"
      },
      "execution_count": null,
      "outputs": []
    },
    {
      "cell_type": "markdown",
      "source": [
        "# Model"
      ],
      "metadata": {
        "id": "XhcH-xHRzoRV"
      }
    },
    {
      "cell_type": "markdown",
      "source": [
        "Definicija modela; Model ima 54 ulaza koji odgovaraju broju atributa uzoraka i 7 izlaza od kojih najveci odredjuje klasu"
      ],
      "metadata": {
        "id": "sIR5EEf1jnC7"
      }
    },
    {
      "cell_type": "code",
      "source": [
        "class Classifier(nn.Module):\n",
        "  def __init__(self):\n",
        "    super().__init__()\n",
        "    self.l1 = nn.Linear(54, 100)\n",
        "    self.act1 = nn.ReLU()\n",
        "    self.d1 = nn.Dropout(0.2)\n",
        "    self.l2 = nn.Linear(100, 150)\n",
        "    self.act2 = nn.ReLU()\n",
        "    self.d2 = nn.Dropout(0.3)\n",
        "    self.l3 = nn.Linear(150, 100)\n",
        "    self.act3 = nn.ReLU()\n",
        "    self.l4 = nn.Linear(100, 7)\n",
        "\n",
        "  def forward(self, x):\n",
        "    x = self.d1(self.act1(self.l1(x)))\n",
        "    x = self.d2(self.act2(self.l2(x)))\n",
        "    x = self.act3(self.l3(x))\n",
        "    x = self.l4(x)\n",
        "    return x"
      ],
      "metadata": {
        "id": "xvfNDjVOzvhy"
      },
      "execution_count": null,
      "outputs": []
    },
    {
      "cell_type": "code",
      "source": [
        "classifier = Classifier()"
      ],
      "metadata": {
        "id": "mdSZZW1Fmq4E"
      },
      "execution_count": null,
      "outputs": []
    },
    {
      "cell_type": "markdown",
      "source": [
        "# Testiranje modela"
      ],
      "metadata": {
        "id": "cGcyy5Ft0Ma-"
      }
    },
    {
      "cell_type": "markdown",
      "source": [
        "Testiranje modela nad predvidjenim testnim skupom i graficki prikaz preciznosti i odziva"
      ],
      "metadata": {
        "id": "pNZtMYGvkm6M"
      }
    },
    {
      "cell_type": "code",
      "source": [
        "loss_fn = nn.CrossEntropyLoss()\n",
        "\n",
        "def test_model(model, test_loader):\n",
        "  total_loss = 0\n",
        "  model.eval()\n",
        "  predicted_class = []\n",
        "  expected_class = []\n",
        "\n",
        "  for X_batch, y_batch in test_loader:\n",
        "    for X_sample, y_sample in zip(X_batch, y_batch):\n",
        "      preds = model.forward(X_sample)\n",
        "      loss = loss_fn(preds, y_sample)\n",
        "      total_loss += loss.item()\n",
        "      predicted_class.append(torch.argmax(preds))\n",
        "      expected_class.append(torch.argmax(y_sample))\n",
        "\n",
        "  c_matrix = confusion_matrix(expected_class, predicted_class)\n",
        "  cl_report = classification_report(expected_class, predicted_class)\n",
        "\n",
        "  plt.figure(figsize=(4,4))\n",
        "  sns.heatmap(c_matrix, annot=True, fmt='g', vmin=0, cbar=False, cmap='BuPu')\n",
        "  plt.title(\"Confusion matrix\")\n",
        "  plt.xlabel(\"Predicted values\")\n",
        "  plt.ylabel(\"Actual values\")\n",
        "  plt.show()\n",
        "  print(\"Classification report:\\n\", cl_report)\n",
        "  print(\"Average loss: \", total_loss/len(test_loader.dataset))"
      ],
      "metadata": {
        "id": "PuHaWYiF0S1s"
      },
      "execution_count": null,
      "outputs": []
    },
    {
      "cell_type": "code",
      "source": [
        "test_model(classifier, test_loader)"
      ],
      "metadata": {
        "id": "wU-pSjZfnV5_",
        "colab": {
          "base_uri": "https://localhost:8080/",
          "height": 812
        },
        "outputId": "0103a554-2b4a-4d33-acf9-4955d06bc3a1"
      },
      "execution_count": null,
      "outputs": [
        {
          "output_type": "stream",
          "name": "stderr",
          "text": [
            "/usr/local/lib/python3.10/dist-packages/sklearn/metrics/_classification.py:1344: UndefinedMetricWarning: Precision and F-score are ill-defined and being set to 0.0 in labels with no predicted samples. Use `zero_division` parameter to control this behavior.\n",
            "  _warn_prf(average, modifier, msg_start, len(result))\n",
            "/usr/local/lib/python3.10/dist-packages/sklearn/metrics/_classification.py:1344: UndefinedMetricWarning: Precision and F-score are ill-defined and being set to 0.0 in labels with no predicted samples. Use `zero_division` parameter to control this behavior.\n",
            "  _warn_prf(average, modifier, msg_start, len(result))\n",
            "/usr/local/lib/python3.10/dist-packages/sklearn/metrics/_classification.py:1344: UndefinedMetricWarning: Precision and F-score are ill-defined and being set to 0.0 in labels with no predicted samples. Use `zero_division` parameter to control this behavior.\n",
            "  _warn_prf(average, modifier, msg_start, len(result))\n"
          ]
        },
        {
          "output_type": "display_data",
          "data": {
            "text/plain": [
              "<Figure size 400x400 with 1 Axes>"
            ],
            "image/png": "[encoded data removed]"
          },
          "metadata": {}
        },
        {
          "output_type": "stream",
          "name": "stdout",
          "text": [
            "Classification report:\n",
            "               precision    recall  f1-score   support\n",
            "\n",
            "           0       0.00      0.00      0.00       408\n",
            "           1       0.00      0.00      0.00       431\n",
            "           2       0.00      0.00      0.00       404\n",
            "           3       0.14      1.00      0.24       389\n",
            "           4       0.00      0.00      0.00       432\n",
            "           5       0.00      0.00      0.00       455\n",
            "           6       0.01      0.00      0.00       366\n",
            "\n",
            "    accuracy                           0.14      2885\n",
            "   macro avg       0.02      0.14      0.04      2885\n",
            "weighted avg       0.02      0.14      0.03      2885\n",
            "\n",
            "Average loss:  1.9484300499359077\n"
          ]
        }
      ]
    },
    {
      "cell_type": "markdown",
      "source": [
        "# Treniranje"
      ],
      "metadata": {
        "id": "98v19YQ6-j0D"
      }
    },
    {
      "cell_type": "markdown",
      "source": [
        "Treniranje modela sa predvidjenim skupom za trening uz validaciju pri cemu se treniranje zaustavlja ukoliko se greska poveca po treci put zaredom"
      ],
      "metadata": {
        "id": "2MjtSveqk3G9"
      }
    },
    {
      "cell_type": "code",
      "source": [
        "optimizer = optim.Adam(classifier.parameters(), lr=0.001)"
      ],
      "metadata": {
        "id": "t8Ajpphengft"
      },
      "execution_count": null,
      "outputs": []
    },
    {
      "cell_type": "code",
      "source": [
        "def train_model(epochs, min_loss, patience):\n",
        "\n",
        "  for i in range(epochs):\n",
        "    classifier.train()\n",
        "    for x, y in train_loader:\n",
        "      preds = classifier(x)\n",
        "      loss = loss_fn(preds, y)\n",
        "      optimizer.zero_grad()\n",
        "      loss.backward()\n",
        "      optimizer.step()\n",
        "\n",
        "    classifier.eval()\n",
        "    total_loss = 0\n",
        "\n",
        "    with torch.no_grad():\n",
        "      for x, y in val_loader:\n",
        "        preds = classifier(x)\n",
        "        loss = loss_fn(preds, y)\n",
        "        total_loss += loss.item()\n",
        "\n",
        "      average_loss = total_loss/len(val_loader.dataset)\n",
        "\n",
        "      if(average_loss > min_loss):\n",
        "        counter+=1\n",
        "      else:\n",
        "        min_loss = average_loss\n",
        "        counter=0\n",
        "\n",
        "      if(counter >= patience):\n",
        "        print(\"Last epoch: \", i)\n",
        "        return\n",
        "\n",
        "train_model(100, 10, 3)"
      ],
      "metadata": {
        "id": "-J9t0biP-o-v",
        "colab": {
          "base_uri": "https://localhost:8080/"
        },
        "outputId": "04c89849-7e35-470a-8d68-3d9a8069683a"
      },
      "execution_count": null,
      "outputs": [
        {
          "output_type": "stream",
          "name": "stdout",
          "text": [
            "Last epoch:  20\n"
          ]
        }
      ]
    },
    {
      "cell_type": "markdown",
      "source": [
        "Testiranje modela i prikaz rezultata nakon treniranja modela:"
      ],
      "metadata": {
        "id": "PZS2Q51flUyi"
      }
    },
    {
      "cell_type": "code",
      "source": [
        "test_model(classifier, test_loader)"
      ],
      "metadata": {
        "id": "beJorkeC-72U",
        "colab": {
          "base_uri": "https://localhost:8080/",
          "height": 688
        },
        "outputId": "2c4eeb97-2e81-4ca2-c27d-95674cd817cc"
      },
      "execution_count": null,
      "outputs": [
        {
          "output_type": "display_data",
          "data": {
            "text/plain": [
              "<Figure size 400x400 with 1 Axes>"
            ],
            "image/png": "[encoded data removed]"
          },
          "metadata": {}
        },
        {
          "output_type": "stream",
          "name": "stdout",
          "text": [
            "Classification report:\n",
            "               precision    recall  f1-score   support\n",
            "\n",
            "           0       0.76      0.75      0.75       408\n",
            "           1       0.79      0.68      0.73       431\n",
            "           2       0.79      0.77      0.78       404\n",
            "           3       0.86      0.98      0.92       389\n",
            "           4       0.89      0.93      0.91       432\n",
            "           5       0.85      0.80      0.83       455\n",
            "           6       0.90      0.98      0.94       366\n",
            "\n",
            "    accuracy                           0.84      2885\n",
            "   macro avg       0.84      0.84      0.84      2885\n",
            "weighted avg       0.83      0.84      0.83      2885\n",
            "\n",
            "Average loss:  0.41311564983418597\n"
          ]
        }
      ]
    },
    {
      "cell_type": "code",
      "source": [],
      "metadata": {
        "id": "m3TC_BKLEq1N"
      },
      "execution_count": null,
      "outputs": []
    }
  ]
}
